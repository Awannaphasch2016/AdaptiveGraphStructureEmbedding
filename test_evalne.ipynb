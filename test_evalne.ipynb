{
 "cells": [
  {
   "cell_type": "markdown",
   "metadata": {
    "collapsed": true,
    "pycharm": {
     "name": "#%% md\n"
    }
   },
   "source": [
    "### .init as configuration file have the following option\n",
    "1. data preprocessing\n",
    "2. methods\n",
    "3. baseline to evaluate\n",
    "4. types of output to provide\n",
    "5. it can also be used to create other .init file"
   ]
  },
  {
   "cell_type": "code",
   "execution_count": 8,
   "outputs": [],
   "source": [
    "# import numpy\n",
    "import torch"
   ],
   "metadata": {
    "collapsed": false,
    "pycharm": {
     "name": "#%%\n",
     "is_executing": false
    }
   }
  },
  {
   "cell_type": "code",
   "execution_count": null,
   "outputs": [],
   "source": [
    "from evalne.evaluation.split import EvalSplit\n",
    "from evalne.evaluation.score import Scoresheet\n",
    "from evalne.utils import preprocess as pp\n",
    "\n",
    "# Load and preprocess the network\n",
    "G = pp.load_graph('../evalne/tests/data/network.edgelist')\n",
    "G, _ = pp.prep_graph(G)\n",
    "\n",
    "# Create an evaluator and generate train/test edge split\n",
    "traintest_split = EvalSplit()\n",
    "traintest_split.compute_splits(G)\n",
    "nee = LPEvaluator(traintest_split)\n",
    "\n",
    "# Create a Scoresheet to store the results\n",
    "scoresheet = Scoresheet()\n",
    "\n",
    "# Set the baselines\n",
    "methods = ['random_prediction', 'common_neighbours', 'jaccard_coefficient']\n",
    "\n",
    "# Evaluate baselines\n",
    "for method in methods:\n",
    "    result = nee.evaluate_baseline(method=method)\n",
    "    scoresheet.log_results(result)\n",
    "\n",
    "try:\n",
    "    # Check if OpenNE is installed\n",
    "    import openne\n",
    "\n",
    "    # Set embedding methods from OpenNE\n",
    "    methods = ['node2vec', 'deepwalk', 'GraRep']\n",
    "    commands = [\n",
    "        'python -m openne --method node2vec --graph-format edgelist --p 1 --q 1',\n",
    "        'python -m openne --method deepWalk --graph-format edgelist --number-walks 40',\n",
    "        'python -m openne --method grarep --graph-format edgelist --epochs 10']\n",
    "    edge_emb = ['average', 'hadamard']\n",
    "\n",
    "    # Evaluate embedding methods\n",
    "    for i in range(len(methods)):\n",
    "        command = commands[i] + \" --input {} --output {} --representation-size {}\"\n",
    "        results = nee.evaluate_cmd(method_name=methods[i], method_type='ne', command=command,\n",
    "                                   edge_embedding_methods=edge_emb, input_delim=' ', output_delim=' ')\n",
    "        scoresheet.log_results(results)\n",
    "\n",
    "except ImportError:\n",
    "    print(\"The OpenNE library is not installed. Reporting results only for the baselines...\")\n",
    "    pass\n",
    "\n",
    "# Get output\n",
    "scoresheet.print_tabular()"
   ],
   "metadata": {
    "collapsed": false,
    "pycharm": {
     "name": "#%%\n"
    }
   }
  },
  {
   "cell_type": "code",
   "execution_count": 2,
   "outputs": [
    {
     "name": "stdout",
     "text": [
      "1.15.1\n",
      "2.4\n",
      "0.22.1\n",
      "0.24.2\n",
      "1.4.1\n"
     ],
     "output_type": "stream"
    }
   ],
   "source": [
    "import networkx as nx\n",
    "import sklearn\n",
    "import numpy as np\n",
    "print(np.__version__)\n",
    "print(nx.__version__)\n",
    "print(sklearn.__version__)\n",
    "import pandas as pd\n",
    "print(pd.__version__)\n",
    "import scipy\n",
    "print(scipy.__version__)"
   ],
   "metadata": {
    "collapsed": false,
    "pycharm": {
     "name": "#%%\n",
     "is_executing": false
    }
   }
  },
  {
   "cell_type": "code",
   "execution_count": null,
   "outputs": [],
   "source": [
    "\n"
   ],
   "metadata": {
    "collapsed": false,
    "pycharm": {
     "name": "#%%\n"
    }
   }
  }
 ],
 "metadata": {
  "kernelspec": {
   "display_name": "Python 3",
   "language": "python",
   "name": "python3"
  },
  "language_info": {
   "codemirror_mode": {
    "name": "ipython",
    "version": 2
   },
   "file_extension": ".py",
   "mimetype": "text/x-python",
   "name": "python",
   "nbconvert_exporter": "python",
   "pygments_lexer": "ipython2",
   "version": "2.7.6"
  },
  "pycharm": {
   "stem_cell": {
    "cell_type": "raw",
    "source": [],
    "metadata": {
     "collapsed": false
    }
   }
  }
 },
 "nbformat": 4,
 "nbformat_minor": 0
}